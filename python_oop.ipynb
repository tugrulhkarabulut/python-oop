{
 "cells": [
  {
   "cell_type": "markdown",
   "metadata": {},
   "source": [
    "# Object Oriented Programming In Python"
   ]
  },
  {
   "cell_type": "markdown",
   "metadata": {},
   "source": [
    "## Classes and Objects"
   ]
  },
  {
   "cell_type": "markdown",
   "metadata": {},
   "source": [
    "### Class Definition"
   ]
  },
  {
   "cell_type": "code",
   "execution_count": 2,
   "metadata": {},
   "outputs": [],
   "source": [
    "import datetime\n",
    "\n",
    "class Car:\n",
    "    def __init__(self, model, year, km, speed, owner = None):\n",
    "        self.model = model\n",
    "        self.year = year\n",
    "        self.km = km\n",
    "        self.speed = speed\n",
    "        self.owner = owner\n",
    "        \n",
    "    def age(self):\n",
    "        return datetime.datetime.now().year - self.year\n",
    "    \n",
    "    # Implementing some dunder/magic methods\n",
    "    def __repr__(self):\n",
    "        return 'Car({}, {}, {}, {})'.format(self.model, self.year, self.km, self.speed)\n",
    "    \n",
    "    def __str__(self):\n",
    "        return '{}, {}'.format(self.model, self.year)\n",
    "    \n",
    "    def __eq__(self, other):\n",
    "        return self.model == other.model"
   ]
  },
  {
   "cell_type": "markdown",
   "metadata": {},
   "source": [
    "##### Python Dunder (Magic) Methods Documentation\n",
    "https://docs.python.org/3/reference/datamodel.html#special-method-names"
   ]
  },
  {
   "cell_type": "markdown",
   "metadata": {},
   "source": [
    "### Creating Objects (Instances) and How To Access Properties / Call Methods"
   ]
  },
  {
   "cell_type": "code",
   "execution_count": 238,
   "metadata": {},
   "outputs": [
    {
     "data": {
      "text/plain": [
       "1944"
      ]
     },
     "execution_count": 238,
     "metadata": {},
     "output_type": "execute_result"
    }
   ],
   "source": [
    "car1 = Car('a', 1944, 100000, 120)\n",
    "car1.year"
   ]
  },
  {
   "cell_type": "code",
   "execution_count": 235,
   "metadata": {},
   "outputs": [
    {
     "data": {
      "text/plain": [
       "1990"
      ]
     },
     "execution_count": 235,
     "metadata": {},
     "output_type": "execute_result"
    }
   ],
   "source": [
    "car2 = Car('b', 1990, 10000, 100)\n",
    "car2.year"
   ]
  },
  {
   "cell_type": "code",
   "execution_count": 236,
   "metadata": {},
   "outputs": [
    {
     "data": {
      "text/plain": [
       "30"
      ]
     },
     "execution_count": 236,
     "metadata": {},
     "output_type": "execute_result"
    }
   ],
   "source": [
    "car2.age()"
   ]
  },
  {
   "cell_type": "code",
   "execution_count": 255,
   "metadata": {},
   "outputs": [
    {
     "data": {
      "text/plain": [
       "Car(a, 1944, 100000, 120)"
      ]
     },
     "execution_count": 255,
     "metadata": {},
     "output_type": "execute_result"
    }
   ],
   "source": [
    "car1"
   ]
  },
  {
   "cell_type": "code",
   "execution_count": 198,
   "metadata": {},
   "outputs": [
    {
     "data": {
      "text/plain": [
       "'a, 1944'"
      ]
     },
     "execution_count": 198,
     "metadata": {},
     "output_type": "execute_result"
    }
   ],
   "source": [
    "str(car1)"
   ]
  },
  {
   "cell_type": "code",
   "execution_count": 199,
   "metadata": {},
   "outputs": [
    {
     "data": {
      "text/plain": [
       "False"
      ]
     },
     "execution_count": 199,
     "metadata": {},
     "output_type": "execute_result"
    }
   ],
   "source": [
    "car1 == car2"
   ]
  },
  {
   "cell_type": "code",
   "execution_count": 200,
   "metadata": {},
   "outputs": [
    {
     "data": {
      "text/plain": [
       "True"
      ]
     },
     "execution_count": 200,
     "metadata": {},
     "output_type": "execute_result"
    }
   ],
   "source": [
    "car2 == car2"
   ]
  },
  {
   "cell_type": "code",
   "execution_count": 201,
   "metadata": {},
   "outputs": [],
   "source": [
    "car3 = Car('a', 1292, 1232, 12312)"
   ]
  },
  {
   "cell_type": "code",
   "execution_count": 202,
   "metadata": {},
   "outputs": [
    {
     "data": {
      "text/plain": [
       "True"
      ]
     },
     "execution_count": 202,
     "metadata": {},
     "output_type": "execute_result"
    }
   ],
   "source": [
    "car1 == car3"
   ]
  },
  {
   "cell_type": "markdown",
   "metadata": {},
   "source": [
    "### Subclasses"
   ]
  },
  {
   "cell_type": "code",
   "execution_count": 3,
   "metadata": {},
   "outputs": [],
   "source": [
    "class Bus(Car):\n",
    "    \n",
    "    def __init__(self, model, year, km, speed, num_seats, owner = None):\n",
    "        super().__init__(model, year, km, speed, owner)\n",
    "        self.num_seats = num_seats\n",
    "        \n",
    "    def __repr__(self):\n",
    "        return 'Bus({}, {}, {}, {}, {})'.format(self.model, self.year, self.km, self.speed, self.num_seats)\n",
    "        "
   ]
  },
  {
   "cell_type": "code",
   "execution_count": 299,
   "metadata": {},
   "outputs": [],
   "source": [
    "bus1 = Bus('a', 1999, 21124, 123, 100, person1)"
   ]
  },
  {
   "cell_type": "code",
   "execution_count": 300,
   "metadata": {},
   "outputs": [
    {
     "data": {
      "text/plain": [
       "100"
      ]
     },
     "execution_count": 300,
     "metadata": {},
     "output_type": "execute_result"
    }
   ],
   "source": [
    "bus1.num_seats"
   ]
  },
  {
   "cell_type": "code",
   "execution_count": 245,
   "metadata": {},
   "outputs": [
    {
     "data": {
      "text/plain": [
       "21"
      ]
     },
     "execution_count": 245,
     "metadata": {},
     "output_type": "execute_result"
    }
   ],
   "source": [
    "bus1.age()"
   ]
  },
  {
   "cell_type": "code",
   "execution_count": 302,
   "metadata": {},
   "outputs": [
    {
     "data": {
      "text/plain": [
       "Bus(a, 1999, 21124, 123, 100)"
      ]
     },
     "execution_count": 302,
     "metadata": {},
     "output_type": "execute_result"
    }
   ],
   "source": [
    "bus1"
   ]
  },
  {
   "cell_type": "markdown",
   "metadata": {},
   "source": [
    "### Class Decorators And classmethod"
   ]
  },
  {
   "cell_type": "code",
   "execution_count": 146,
   "metadata": {},
   "outputs": [],
   "source": [
    "class Person:\n",
    "    def __init__(self, fullname, birthyear, city):\n",
    "        self.fullname = fullname\n",
    "        self.birthyear = birthyear\n",
    "        self.city = city\n",
    "        \n",
    "    def greet(self):\n",
    "        print('Hello, I\\'m', self.fullname)\n",
    "\n",
    "    @property\n",
    "    def identity_info(self):\n",
    "        return '{}, {}, {}'.format(self.fullname, self.birthyear, self.city)\n",
    "    \n",
    "    \n",
    "    @classmethod\n",
    "    def from_identity_str(cls, identity_str):\n",
    "        fullname, birthyear, city = identity_str.split(', ')\n",
    "        \n",
    "        new_person = cls(fullname, birthyear, city)\n",
    "        \n",
    "        return new_person\n",
    "    \n",
    "    \n",
    "    def __repr__(self):\n",
    "        return 'Person({}, {}, {})'.format(self.fullname, self.birthyear, self.city)\n",
    "        "
   ]
  },
  {
   "cell_type": "code",
   "execution_count": 147,
   "metadata": {},
   "outputs": [],
   "source": [
    "person1 = Person('Tugrul Karabulut', 1998, 'Istanbul')"
   ]
  },
  {
   "cell_type": "code",
   "execution_count": 148,
   "metadata": {},
   "outputs": [],
   "source": [
    "car1.owner = person1"
   ]
  },
  {
   "cell_type": "code",
   "execution_count": 149,
   "metadata": {},
   "outputs": [
    {
     "name": "stdout",
     "output_type": "stream",
     "text": [
      "Hello, I'm Tugrul Karabulut\n"
     ]
    }
   ],
   "source": [
    "car1.owner.greet()"
   ]
  },
  {
   "cell_type": "code",
   "execution_count": 150,
   "metadata": {},
   "outputs": [
    {
     "name": "stdout",
     "output_type": "stream",
     "text": [
      "Hello, I'm Tugrul Karabulut\n"
     ]
    }
   ],
   "source": [
    "person1.greet()"
   ]
  },
  {
   "cell_type": "code",
   "execution_count": 151,
   "metadata": {},
   "outputs": [
    {
     "data": {
      "text/plain": [
       "True"
      ]
     },
     "execution_count": 151,
     "metadata": {},
     "output_type": "execute_result"
    }
   ],
   "source": [
    "car1.owner == person1"
   ]
  },
  {
   "cell_type": "code",
   "execution_count": 152,
   "metadata": {},
   "outputs": [],
   "source": [
    "car2.owner = person1"
   ]
  },
  {
   "cell_type": "code",
   "execution_count": 153,
   "metadata": {},
   "outputs": [
    {
     "data": {
      "text/plain": [
       "'Tugrul Karabulut, 1998, Istanbul'"
      ]
     },
     "execution_count": 153,
     "metadata": {},
     "output_type": "execute_result"
    }
   ],
   "source": [
    "person1.identity_info"
   ]
  },
  {
   "cell_type": "code",
   "execution_count": 154,
   "metadata": {},
   "outputs": [],
   "source": [
    "person_from_str = Person.from_identity_str(person1.identity_info)"
   ]
  },
  {
   "cell_type": "code",
   "execution_count": 155,
   "metadata": {},
   "outputs": [
    {
     "data": {
      "text/plain": [
       "'Person(Tugrul Karabulut, 1998, Istanbul)'"
      ]
     },
     "execution_count": 155,
     "metadata": {},
     "output_type": "execute_result"
    }
   ],
   "source": [
    "str(person_from_str)"
   ]
  },
  {
   "cell_type": "markdown",
   "metadata": {},
   "source": [
    "### classmethod vs. staticmethod"
   ]
  },
  {
   "cell_type": "code",
   "execution_count": 267,
   "metadata": {},
   "outputs": [],
   "source": [
    "class Car:\n",
    "    tax_rate = 0.8\n",
    "    \n",
    "    def __init__(self, model, year, km, speed, owner = None):\n",
    "        self.model = model\n",
    "        self.year = year\n",
    "        self.km = km\n",
    "        self.speed = speed\n",
    "        self.owner = owner\n",
    "        \n",
    "    def age(self):\n",
    "        return datetime.datetime.now().year - self.year\n",
    "        \n",
    "    def __repr__(self):\n",
    "        return 'Car({}, {}, {}, {})'.format(self.model, self.year, self.km, self.speed)\n",
    "    \n",
    "    def __str__(self):\n",
    "        return '{}, {}'.format(self.model, self.year)\n",
    "    \n",
    "    def __eq__(self, other):\n",
    "        return self.model == other.model\n",
    "    \n",
    "    \n",
    "    # Takes class as a first argument\n",
    "    @classmethod\n",
    "    def update_tax_rate(cls, new_tax_rate):\n",
    "        cls.tax_rate = new_tax_rate\n",
    "        \n",
    "        return cls.tax_rate\n",
    "    \n",
    "    # Takes only external arguments\n",
    "    @staticmethod\n",
    "    def traffic_in_area(area):\n",
    "        # ... getting traffic data from somewhere\n",
    "        # doing some calculations\n",
    "        return 'normal'\n",
    "        \n",
    "    \n",
    "    \n",
    "        "
   ]
  },
  {
   "cell_type": "code",
   "execution_count": 268,
   "metadata": {},
   "outputs": [
    {
     "data": {
      "text/plain": [
       "0.8"
      ]
     },
     "execution_count": 268,
     "metadata": {},
     "output_type": "execute_result"
    }
   ],
   "source": [
    "Car.tax_rate"
   ]
  },
  {
   "cell_type": "code",
   "execution_count": 269,
   "metadata": {},
   "outputs": [
    {
     "data": {
      "text/plain": [
       "0.8"
      ]
     },
     "execution_count": 269,
     "metadata": {},
     "output_type": "execute_result"
    }
   ],
   "source": [
    "car1 = Car('a', 1980, 214214, 123)\n",
    "car1.tax_rate"
   ]
  },
  {
   "cell_type": "markdown",
   "metadata": {},
   "source": [
    "Car.update_tax_rate(0.18)"
   ]
  },
  {
   "cell_type": "code",
   "execution_count": 271,
   "metadata": {},
   "outputs": [
    {
     "name": "stdout",
     "output_type": "stream",
     "text": [
      "0.18\n",
      "0.18\n"
     ]
    }
   ],
   "source": [
    "print(Car.tax_rate)\n",
    "print(car1.tax_rate)"
   ]
  },
  {
   "cell_type": "code",
   "execution_count": 273,
   "metadata": {},
   "outputs": [
    {
     "data": {
      "text/plain": [
       "'normal'"
      ]
     },
     "execution_count": 273,
     "metadata": {},
     "output_type": "execute_result"
    }
   ],
   "source": [
    "Car.traffic_in_area('Bağcılar')"
   ]
  },
  {
   "cell_type": "markdown",
   "metadata": {},
   "source": [
    "### Getters / Setters / Deleters"
   ]
  },
  {
   "cell_type": "code",
   "execution_count": 291,
   "metadata": {},
   "outputs": [],
   "source": [
    "class Person:\n",
    "    def __init__(self, fullname, birthyear, city):\n",
    "        self.fullname = fullname\n",
    "        self.birthyear = birthyear\n",
    "        self.city = city\n",
    "        \n",
    "    def greet(self):\n",
    "        print('Hello, I\\'m', self.fullname)\n",
    "    \n",
    "    @classmethod\n",
    "    def from_identity_str(cls, identity_str):\n",
    "        fullname, birthyear, city = identity_str.split(', ')\n",
    "        \n",
    "        new_person = cls(fullname, birthyear, city)\n",
    "        \n",
    "        return new_person\n",
    "    \n",
    "    \n",
    "    def __repr__(self):\n",
    "        return 'Person({}, {}, {})'.format(self.fullname, self.birthyear, self.city)\n",
    "    \n",
    "    @property\n",
    "    def identity_info(self):\n",
    "        return '{}, {}, {}'.format(self.fullname, self.birthyear, self.city)\n",
    "    \n",
    "    @identity_info.setter\n",
    "    def identity_info(self, new_identity):\n",
    "        fullname, birthyear, city = new_identity.split(', ')\n",
    "        \n",
    "        self.fullname = fullname\n",
    "        self.birthyear = birthyear\n",
    "        self.city = city\n",
    "        \n",
    "    @identity_info.deleter\n",
    "    def identity_info(self):        \n",
    "        self.fullname = None\n",
    "        self.birthyear = None\n",
    "        self.city = None"
   ]
  },
  {
   "cell_type": "code",
   "execution_count": 292,
   "metadata": {},
   "outputs": [],
   "source": [
    "person1 = Person('Tuğrul Hasan Karabulut', 1998, 'Istanbul')"
   ]
  },
  {
   "cell_type": "code",
   "execution_count": 293,
   "metadata": {},
   "outputs": [
    {
     "data": {
      "text/plain": [
       "'Tuğrul Hasan Karabulut, 1998, Istanbul'"
      ]
     },
     "execution_count": 293,
     "metadata": {},
     "output_type": "execute_result"
    }
   ],
   "source": [
    "person1.identity_info"
   ]
  },
  {
   "cell_type": "code",
   "execution_count": 294,
   "metadata": {},
   "outputs": [],
   "source": [
    "person1.identity_info = 'Yossi Kohen, 1988, New York'"
   ]
  },
  {
   "cell_type": "code",
   "execution_count": 295,
   "metadata": {},
   "outputs": [],
   "source": [
    "del person1.identity_info"
   ]
  },
  {
   "cell_type": "code",
   "execution_count": 296,
   "metadata": {},
   "outputs": [
    {
     "data": {
      "text/plain": [
       "Person(None, None, None)"
      ]
     },
     "execution_count": 296,
     "metadata": {},
     "output_type": "execute_result"
    }
   ],
   "source": [
    "person1"
   ]
  }
 ],
 "metadata": {
  "kernelspec": {
   "display_name": "Python 3.8.1 64-bit",
   "language": "python",
   "name": "python38164bitb67002bdd6e54363b3a4785271f5d5b5"
  },
  "language_info": {
   "codemirror_mode": {
    "name": "ipython",
    "version": 3
   },
   "file_extension": ".py",
   "mimetype": "text/x-python",
   "name": "python",
   "nbconvert_exporter": "python",
   "pygments_lexer": "ipython3",
   "version": "3.8.1"
  }
 },
 "nbformat": 4,
 "nbformat_minor": 4
}
